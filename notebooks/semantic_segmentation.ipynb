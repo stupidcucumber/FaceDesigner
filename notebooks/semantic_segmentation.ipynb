{
 "cells": [
  {
   "cell_type": "code",
   "execution_count": 1,
   "metadata": {},
   "outputs": [],
   "source": [
    "import gdown"
   ]
  },
  {
   "cell_type": "code",
   "execution_count": 4,
   "metadata": {},
   "outputs": [
    {
     "name": "stderr",
     "output_type": "stream",
     "text": [
      "Downloading...\n",
      "From: https://drive.usercontent.google.com/open?id=1badu11NqxGf6qM3PTTooQDJvQbejgbTv&authuser=1\n",
      "To: /Users/ihorkostiuk/Documents/Personal/FaceDesigner/notebooks/open?id=1badu11NqxGf6qM3PTTooQDJvQbejgbTv&authuser=1\n",
      "1.64kB [00:00, 567kB/s]\n"
     ]
    },
    {
     "data": {
      "text/plain": [
       "'open?id=1badu11NqxGf6qM3PTTooQDJvQbejgbTv&authuser=1'"
      ]
     },
     "execution_count": 4,
     "metadata": {},
     "output_type": "execute_result"
    }
   ],
   "source": [
    "gdown.download('https://drive.usercontent.google.com/open?id=1badu11NqxGf6qM3PTTooQDJvQbejgbTv&authuser=1')"
   ]
  },
  {
   "cell_type": "code",
   "execution_count": null,
   "metadata": {},
   "outputs": [],
   "source": []
  }
 ],
 "metadata": {
  "kernelspec": {
   "display_name": "testing",
   "language": "python",
   "name": "python3"
  },
  "language_info": {
   "codemirror_mode": {
    "name": "ipython",
    "version": 3
   },
   "file_extension": ".py",
   "mimetype": "text/x-python",
   "name": "python",
   "nbconvert_exporter": "python",
   "pygments_lexer": "ipython3",
   "version": "3.10.13"
  }
 },
 "nbformat": 4,
 "nbformat_minor": 2
}
